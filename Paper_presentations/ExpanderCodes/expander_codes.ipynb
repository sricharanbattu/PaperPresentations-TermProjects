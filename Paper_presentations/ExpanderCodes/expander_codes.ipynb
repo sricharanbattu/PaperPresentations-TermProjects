{
  "nbformat": 4,
  "nbformat_minor": 0,
  "metadata": {
    "colab": {
      "name": "Untitled6.ipynb",
      "provenance": []
    },
    "kernelspec": {
      "name": "python3",
      "display_name": "Python 3"
    },
    "language_info": {
      "name": "python"
    }
  },
  "cells": [
    {
      "cell_type": "markdown",
      "metadata": {
        "id": "WPonZf4t1Cjd"
      },
      "source": [
        ""
      ]
    },
    {
      "cell_type": "code",
      "metadata": {
        "id": "mIp4yiHhBppA"
      },
      "source": [
        "import networkx as nx\n",
        "#import matplotlib.pyplot as plt"
      ],
      "execution_count": null,
      "outputs": []
    },
    {
      "cell_type": "code",
      "metadata": {
        "id": "eXu6HDa_CAEx"
      },
      "source": [
        "G=nx.Graph()\n",
        "G.add_nodes_from([1,2,3,4,5,6,7,8,9])"
      ],
      "execution_count": null,
      "outputs": []
    },
    {
      "cell_type": "code",
      "metadata": {
        "id": "wkty57nhC9dx"
      },
      "source": [
        "G.add_edges_from([(1,2),(1,3),(1,6),(2,4),(2,6),(2,7),(3,4),(4,5),(5,8),(5,9)])"
      ],
      "execution_count": null,
      "outputs": []
    },
    {
      "cell_type": "code",
      "metadata": {
        "colab": {
          "base_uri": "https://localhost:8080/",
          "height": 357
        },
        "id": "ZbP4Ca38DXPK",
        "outputId": "ce3818e4-6281-42e9-b7b4-3fa476f5c7a0"
      },
      "source": [
        "plt.figure(figsize=(6,6))\n",
        "nx.draw_networkx(G,with_labels=True,node_color=['blue','red','red','blue','green','blue','red',\n",
        "                                                'green','green'],node_size=700, font_weight='bold',font_color='white')\n",
        "plt.show()"
      ],
      "execution_count": null,
      "outputs": [
        {
          "output_type": "display_data",
          "data": {
            "image/png": "[encoded data removed]",
            "text/plain": [
              "<Figure size 432x432 with 1 Axes>"
            ]
          },
          "metadata": {
            "tags": []
          }
        }
      ]
    },
    {
      "cell_type": "code",
      "metadata": {
        "id": "p9b4PWEJDcok"
      },
      "source": [
        ""
      ],
      "execution_count": null,
      "outputs": []
    },
    {
      "cell_type": "markdown",
      "metadata": {
        "id": "RPhj-MhiZ5z1"
      },
      "source": [
        "Def : $ A \\  (n,m,D,\\gamma,\\alpha) \\  bipartite \\ expander \\  is\\  a \\ D-left \\ regular \\ bipartite \\ graph \\ G( \\ L \\ U \\  R \\ ,E \\ ) \\ where \\ |L| = n \\ and \\ |R|=m \\ such\\ that\\ \\ \\forall S \\subseteq L \\ with \\ |S|\\leq \\gamma n, \\ |N(S)|\\geq \\alpha |S|$\n",
        "\n",
        "Trivially,It can be seen that:\n",
        "1. $\\alpha \\leq D$\n",
        "2. $\\gamma \\leq 1$\n",
        "\n",
        "The desirable properties of an expander are :\n",
        " 1. D should be as small as possible(Sparsity)\n",
        " 2. $\\alpha$(also called the Expansion factor)  should be as close to D as  possible\n",
        " 3. $\\gamma$  should be as large as possible"
      ]
    },
    {
      "cell_type": "markdown",
      "metadata": {
        "id": "CYxTXaHboaDZ"
      },
      "source": [
        "$Theorem : \\forall \\epsilon >0, \\ m\\leq n, \\exists \\gamma \\geq 0 \\ and\\ D \\geq 1 \\ such\\ that\\ a\\ (n,m,D,\\gamma,D(1-\\epsilon))\\ expander\\ exists.\\ Additionally\\ D=\\Theta(\\frac{log(\\frac{n}{m})}{\\epsilon}) \\ and\\ \\gamma n=\\Theta(\\frac{\\epsilon m}{D})$\n",
        "\n",
        "\\\\\n",
        "\n",
        "\n",
        "1. It can be seen that a low $\\epsilon$ means the expansion factor getting close to D. But the downside is that D increases(less sparse) and $\\gamma$ decreases\n",
        "\n",
        "2. When $m \\leq n$, the direction of expansion is harder and is hard to construct a good expander. \n",
        "\n",
        "3. The degree D and $\\gamma$ are functions of $\\frac{m}{n} \\ and \\  \\epsilon$\n",
        "4. Explicit construction methods exist so that the expander stated in the above theorem can be constructed. "
      ]
    },
    {
      "cell_type": "markdown",
      "metadata": {
        "id": "LMsZuRHcxdTq"
      },
      "source": [
        "\\begin{bmatrix}\n",
        "1&0&0&1&0&1&0 \\\\\n",
        "1&0&1&0&0&1&0 \\\\\n",
        "0&1&0&0&1&0&1 \\\\\n",
        "0&1&1&0&1&0&0 \\\\\n",
        "0&0&0&1&0&0&1\n",
        "\\end{bmatrix}"
      ]
    },
    {
      "cell_type": "markdown",
      "metadata": {
        "id": "9EhxA-dCxasa"
      },
      "source": [
        ""
      ]
    },
    {
      "cell_type": "markdown",
      "metadata": {
        "id": "AgbB0tjbBgt_"
      },
      "source": [
        "Lemma : $\\textbf{$Let \\ G\\ be\\ a\\ (n,m,D,\\gamma,D(1-\\epsilon))\\ expander\\ with\\ \\epsilon < \\frac{1}{2}. Then\\ for\\ any\\ S \\subseteq L\\ such\\ that\\ |S|\\leq \\gamma n, U(S) \\geq D(1-2\\epsilon)|S|$}$\n",
        "\n",
        "Proof: \\\\\n",
        "1. N(S) $\\geq D(1-\\epsilon)|S|$ \\\\\n",
        "2. No of edges out of S = D|S|.  \n",
        "3. So,we must assign D|S| edges to N(S) vertices .\n",
        "4. First assign N(S) edges to N(S) vertices.\n",
        "5. No of edges remaining = D|S|- N(S) $\\leq$ D|S|- D(1-$\\epsilon$)|S|=D$\\epsilon$|S|. \\\\\n",
        "6. Let Maximum number of vertices these can be assigned to the remaining edges be K(S). K(S) $\\leq$ D$\\epsilon$|S|\n",
        "7. The vertices to which we did not assign the remaining edges are unique neighbors. \\\\\n",
        "  U(S)= N(S) - K(S) $\\geq$ D(1-$\\epsilon$)|S| - D$\\epsilon$|S| = D(1- 2$\\epsilon$)|S|\n"
      ]
    },
    {
      "cell_type": "code",
      "metadata": {
        "colab": {
          "base_uri": "https://localhost:8080/"
        },
        "id": "gg-1OfXyKDnA",
        "outputId": "fdcac785-d5d4-4921-97e0-afbc55d01325"
      },
      "source": [
        "import numpy as np\n",
        "A= np.array([[1,0,0,1,0,1,0],[1,0,1,0,0,1,0],[0,1,0,0,1,0,1],[0,1,1,0,1,0,0],[0,0,0,1,0,0,1]])\n",
        "\n",
        "for i1 in range(0,2):\n",
        "  for i2 in range(0,2):\n",
        "    for i3 in range(0,2):\n",
        "      for i4 in range(0,2):\n",
        "        for i5 in range(0,2):\n",
        "          for i6 in range(0,2):\n",
        "            for i7 in range(0,2):\n",
        "              x=np.array([i1,i2,i3,i4,i5,i6,i7])\n",
        "              y=np.dot(A,x)\n",
        "              if(not np.sum(y%2)):\n",
        "                print(x)\n"
      ],
      "execution_count": null,
      "outputs": [
        {
          "output_type": "stream",
          "text": [
            "[0 0 0 0 0 0 0]\n",
            "[0 0 1 1 1 1 1]\n",
            "[0 1 0 0 1 0 0]\n",
            "[0 1 1 1 0 1 1]\n",
            "[1 0 0 0 0 1 0]\n",
            "[1 0 1 1 1 0 1]\n",
            "[1 1 0 0 1 1 0]\n",
            "[1 1 1 1 0 0 1]\n"
          ],
          "name": "stdout"
        }
      ]
    },
    {
      "cell_type": "code",
      "metadata": {
        "colab": {
          "base_uri": "https://localhost:8080/"
        },
        "id": "3Q1zwP8pMTgo",
        "outputId": "4796fa09-f491-45d7-8ba8-2b135c0f6580"
      },
      "source": [
        "import numpy as np\n",
        "a=np.array([2,4,6,8,2,1])\n",
        "if(not np.sum(a%2)):\n",
        "  print(False)\n",
        "else:\n",
        "  print(True)\n"
      ],
      "execution_count": null,
      "outputs": [
        {
          "output_type": "stream",
          "text": [
            "True\n"
          ],
          "name": "stdout"
        }
      ]
    },
    {
      "cell_type": "markdown",
      "metadata": {
        "id": "dXhjMKXS2B54"
      },
      "source": [
        ""
      ]
    },
    {
      "cell_type": "markdown",
      "metadata": {
        "id": "Ud5bi4zB2ECy"
      },
      "source": [
        "$\\textbf{For an expander generated code(with $\\epsilon$ < $\\frac{1}{2}$), minimum distance is always greater than $\\gamma$n}$\n",
        "\n",
        "$\\textbf{Why?}:$ \\\\\n",
        "Consider any codeword with weight less than $\\gamma$n. Let all the left nodes which take value 1 form set S. \\\\\n",
        "Hence, |S|$\\leq \\gamma n$.  By the unique neighbors lemma, there is atleast a vertex on right, say r, which is connected to only one 1 \\\\\n",
        "$\\textbf{A contradiction}$, since the sum of all left nodes connected to any right node must be 0. But for r, sum becomes 1. \n",
        "\n",
        "$\\textbf{If we consider the number of unique neighbours, we get d $\\geq 2\\gamma n(1-\\epsilon)$}$. The proof goes almost the same way"
      ]
    },
    {
      "cell_type": "markdown",
      "metadata": {
        "id": "BNyikAlx8wjD"
      },
      "source": [
        "Rate (R) : $\\geq 1-\\frac{m}{n}$ \\\\\n",
        "Relative minimum distance($\\delta$) : $\\geq 2\\gamma (1-\\epsilon)$ \\\\\n",
        "Let $r_0$=$1- \\frac{m}{n}$ and $\\delta_0$=2$\\gamma (1-\\epsilon)$\n",
        "\n",
        "$\\textbf{$r_0$ is a function of $\\frac{m}{n}$  and $\\delta_0$ is a function of $\\frac{m}{n}$ and $\\epsilon$, as $\\gamma$ depends on $\\frac{m}{n}$} $ \\\\\n"
      ]
    },
    {
      "cell_type": "code",
      "metadata": {
        "colab": {
          "base_uri": "https://localhost:8080/"
        },
        "id": "akpZJBG083tq",
        "outputId": "bc026772-9a33-4182-f3f9-21a077f3d68b"
      },
      "source": [
        "import numpy as np\n",
        "import itertools \n",
        "import random\n",
        "import pandas as pd\n",
        "\n",
        "def generate_ParityCheckMatrix(n,m,D):\n",
        "  A=np.zeros((m,n),dtype=int)\n",
        "  #S=set(range(0,m))\n",
        "  #combs=list(itertools.combinations(S,D))\n",
        "  #K=len(combs)\n",
        "  print(\"Parity Check Matrix\")\n",
        "  print(40*\"_\")\n",
        "  for i in range(0,n):\n",
        "    while(np.sum(A[:,i])<D):\n",
        "      j=random.randint(0,m-1)\n",
        "      A[j,i]=1\n",
        "  print(A)\n",
        "  print(40*\"_\")\n",
        "  return A\n",
        "\n",
        "\n",
        "\n",
        "\n",
        "\n",
        "\n",
        "def generate_codewords(A,n):\n",
        "  S=set(range(0,n))\n",
        "  x=np.zeros(n,dtype=int)\n",
        "  #print(x)\n",
        "  tot=1\n",
        "  min_weight=n\n",
        "  for i in range(1,n):\n",
        "    combs=list(itertools.combinations(S,i))\n",
        "    for t in combs:\n",
        "      x=np.zeros(n,dtype=int)\n",
        "      t=list(t)\n",
        "      x[t]=1\n",
        "      y=np.dot(A,x)\n",
        "      if(not np.sum(y%2)):\n",
        "        #print(x)\n",
        "        tot+=1\n",
        "        if(i<min_weight):\n",
        "          min_weight=i\n",
        "  print(\"n               :\",n)\n",
        "  print(\"m               :\",m)\n",
        "  print(\"1-m/n           :\",1-m/n)\n",
        "  print(\"rate            :\", np.log2(tot)/n)\n",
        "  print(\"minimum_distance: \",min_weight)\n",
        "  print(40*\"_\")\n",
        "\n",
        "\n",
        "def get_neighbors(A,x,n,m):\n",
        "  x=list(x)\n",
        "  total=0\n",
        "  \n",
        "  for i in range(0,m):\n",
        "    if(np.sum(A[i,x])!=0):\n",
        "      total+=1\n",
        "    \n",
        "\n",
        "  return total\n",
        "\n",
        "\n",
        "def get_parameters_expander(A,n,m,D):\n",
        "  min_neighbors=[D]\n",
        "  S=set(range(0,n))\n",
        "  mini=m\n",
        "  for i in range(2,n+1):\n",
        "    combinations=list(itertools.combinations(S,i))\n",
        "    mini=m\n",
        "    for combi in combinations:\n",
        "      neighs=get_neighbors(A,combi,n,m)\n",
        "      mini=min(neighs,mini)\n",
        "\n",
        "    min_neighbors.append(mini)\n",
        "  \n",
        "  #print(min_neighbors)\n",
        "  return min_neighbors\n",
        "\n",
        "def get_exp_props(min_neigbors,n,m,D):\n",
        "  mod_S=np.array(list(range(1,n+1)))\n",
        "  mod_NS=np.array(min_neighbors)\n",
        "  gamma=mod_S/n\n",
        "  alpha_dash=mod_NS/mod_S\n",
        "  alpha=np.zeros(n)\n",
        "  alpha[0]=alpha_dash[0]\n",
        "  for i in range(1,n):\n",
        "    alpha[i]=min(alpha[i-1],alpha_dash[i])\n",
        "\n",
        "  one_minus_eps=alpha/D\n",
        "  epsilon=1-one_minus_eps\n",
        "  deltas= 2*n*gamma*(one_minus_eps)\n",
        "  relative_deltas=deltas/n\n",
        "  \n",
        "  data={'epsilon': epsilon, 'gamma' : gamma, '2*gamma*n*(1-eps)':deltas}\n",
        "  df=pd.DataFrame(data,columns=['epsilon','gamma','2*gamma*n*(1-eps)'])\n",
        "  print(df)\n",
        "\n",
        "\n",
        "\n",
        "\n",
        "\n",
        "\n",
        "  \n",
        "n=16\n",
        "m=10\n",
        "D=4\n",
        "\n",
        "A=generate_ParityCheckMatrix(n,m,D)\n",
        "codes=generate_codewords(A,n)\n",
        "min_neighbors=get_parameters_expander(A,n,m,D)\n",
        "\n",
        "get_exp_props(min_neighbors,n,m,D)\n"
      ],
      "execution_count": null,
      "outputs": [
        {
          "output_type": "stream",
          "text": [
            "Parity Check Matrix\n",
            "________________________________________\n",
            "[[0 1 0 0 0 1 0 0 1 1 0 0 1 1 0 0]\n",
            " [0 1 1 1 1 0 1 1 0 1 0 1 0 0 0 0]\n",
            " [0 0 0 0 0 1 0 1 0 0 1 0 0 0 1 0]\n",
            " [0 1 0 0 0 0 0 1 1 0 0 0 0 1 0 0]\n",
            " [0 0 0 0 1 0 1 0 1 1 0 0 1 0 1 1]\n",
            " [1 1 0 0 0 0 1 0 1 0 1 1 0 1 0 1]\n",
            " [1 0 1 1 1 0 0 1 0 0 0 1 1 0 0 1]\n",
            " [1 0 1 0 0 1 0 0 0 0 0 0 0 0 0 0]\n",
            " [0 0 0 1 0 1 1 0 0 0 1 1 1 1 1 1]\n",
            " [1 0 1 1 1 0 0 0 0 1 1 0 0 0 1 0]]\n",
            "________________________________________\n",
            "n               : 16\n",
            "m               : 10\n",
            "1-m/n           : 0.375\n",
            "rate            : 0.4375\n",
            "minimum_distance:  3\n",
            "________________________________________\n",
            "     epsilon   gamma  2*gamma*n*(1-eps)\n",
            "0   0.000000  0.0625           2.000000\n",
            "1   0.375000  0.1250           2.500000\n",
            "2   0.583333  0.1875           2.500000\n",
            "3   0.625000  0.2500           3.000000\n",
            "4   0.700000  0.3125           3.000000\n",
            "5   0.708333  0.3750           3.500000\n",
            "6   0.750000  0.4375           3.500000\n",
            "7   0.750000  0.5000           4.000000\n",
            "8   0.777778  0.5625           4.000000\n",
            "9   0.800000  0.6250           4.000000\n",
            "10  0.800000  0.6875           4.400000\n",
            "11  0.812500  0.7500           4.500000\n",
            "12  0.826923  0.8125           4.500000\n",
            "13  0.826923  0.8750           4.846154\n",
            "14  0.833333  0.9375           5.000000\n",
            "15  0.843750  1.0000           5.000000\n"
          ],
          "name": "stdout"
        }
      ]
    },
    {
      "cell_type": "code",
      "metadata": {
        "colab": {
          "base_uri": "https://localhost:8080/",
          "height": 282
        },
        "id": "35Na_JySpnRT",
        "outputId": "01656377-d373-4ee3-bde7-55f1bb644959"
      },
      "source": [
        "import matplotlib.pyplot as plt\n",
        "epsilon=[0. ,0.41666667, 0.61111111, 0.66666667, 0.73333333, 0.75,0.78571429, 0.8125 ,    0.83333333, 0.83333333, 0.84848485, 0.86111111,0.87179487, 0.88095238, 0.88888889]\n",
        "gamma=[0.06666667, 0.13333333, 0.2 , 0.26666667, 0.33333333, 0.4,0.46666667, 0.53333333, 0.6,0.66666667, 0.73333333, 0.8,0.86666667, 0.93333333, 1]\n",
        "distance = [2. ,        2.33333333, 2.33333333, 2.66666667, 2.66666667, 3. ,\n",
        " 3. ,         3.  ,       3. ,        3.33333333 ,3.33333333, 3.33333333,\n",
        " 3.33333333, 3.33333333, 3.33333333]\n",
        "plt.plot(epsilon,gamma)\n",
        "plt.plot(epsilon,distance)"
      ],
      "execution_count": null,
      "outputs": [
        {
          "output_type": "execute_result",
          "data": {
            "text/plain": [
              "[<matplotlib.lines.Line2D at 0x7f8b00a3b0d0>]"
            ]
          },
          "metadata": {
            "tags": []
          },
          "execution_count": 8
        },
        {
          "output_type": "display_data",
          "data": {
            "image/png": "[encoded data removed]",
            "text/plain": [
              "<Figure size 432x288 with 1 Axes>"
            ]
          },
          "metadata": {
            "tags": [],
            "needs_background": "light"
          }
        }
      ]
    },
    {
      "cell_type": "markdown",
      "metadata": {
        "id": "h3xI9TceDyiO"
      },
      "source": [
        ""
      ]
    },
    {
      "cell_type": "code",
      "metadata": {
        "id": "ZjnnDUdLEmi2"
      },
      "source": [
        ""
      ],
      "execution_count": null,
      "outputs": []
    }
  ]
}